{
 "cells": [
  {
   "cell_type": "code",
   "execution_count": 15,
   "id": "f36731f6",
   "metadata": {},
   "outputs": [],
   "source": [
    "from typing import TypedDict, Annotated, Optional\n",
    "from langgraph.graph import add_messages, StateGraph, END\n",
    "from langchain_openai import ChatOpenAI\n",
    "from dotenv import load_dotenv\n",
    "from langchain_community.tools.tavily_search import TavilySearchResults\n",
    "from langgraph.checkpoint.memory import MemorySaver\n",
    "from uuid import uuid4\n",
    "import json\n",
    "import os\n",
    "\n",
    "load_dotenv()\n",
    "\n",
    "model = ChatOpenAI(model_name=\"gpt-4o\", temperature=0)\n",
    "\n",
    "#response = model.invoke(\"Hello, how are you?\")\n",
    "#response"
   ]
  },
  {
   "cell_type": "code",
   "execution_count": 16,
   "id": "4457f28e",
   "metadata": {},
   "outputs": [],
   "source": [
    "from urllib3 import response\n",
    "\n",
    "\n",
    "search_tool = TavilySearchResults(max_results=4)\n",
    "#response = search_tool.invoke(\"What is the latest news about the prime minister in France?\")\n",
    "#response\n",
    "\n",
    "tools = [search_tool]\n",
    "memory = MemorySaver()\n",
    "llm_with_tools = model.bind_tools(tools)\n",
    "#response = llm_with_tools.invoke(\"What is the current in Vanves, France?\")\n",
    "#response\n",
    "\n"
   ]
  },
  {
   "cell_type": "code",
   "execution_count": 17,
   "id": "97dd6216",
   "metadata": {},
   "outputs": [],
   "source": [
    "from langchain_core.messages import AIMessage, HumanMessage, ToolMessage\n",
    "\n",
    "class State(TypedDict):\n",
    "    messages: Annotated[list, add_messages]\n",
    "\n",
    "async def model(state: State) -> AIMessage:\n",
    "    result = await llm_with_tools.ainvoke(state[\"messages\"])\n",
    "    return {\n",
    "        \"messages\": [result]\n",
    "    }\n",
    "\n",
    "async def tools_router(state: State) -> ToolMessage:\n",
    "    last_message = state[\"messages\"][-1]\n",
    "    \n",
    "    if(hasattr(last_message,\"tool_calls\")) and len(last_message.tool_calls) > 0:\n",
    "        return \"tool_node\"\n",
    "    else:\n",
    "        return END\n",
    "\n",
    "async def tool_node(state: State) -> ToolMessage:\n",
    "    # Get tool calls from last message\n",
    "    tool_calls = state[\"messages\"][-1].tool_calls\n",
    " \n",
    "    # Initialize list to store messages\n",
    "    tool_messages = []\n",
    "\n",
    "    # Process each tool call\n",
    "    for tool_call in tool_calls:\n",
    "        # Get tool name and arguments\n",
    "        tool_name = tool_call[\"name\"]\n",
    "        tool_args = tool_call[\"args\"]\n",
    "        tool_id = tool_call[\"id\"]\n",
    "\n",
    "        # handle the search tool\n",
    "        if tool_name == \"tavily_search_results_json\":\n",
    "\n",
    "            #Execute the search tool with the provided arguments\n",
    "            search_results = await search_tool.ainvoke(tool_args)\n",
    "\n",
    "            # Create tool message for this result\n",
    "            tool_message = ToolMessage(\n",
    "                content=str(search_results),\n",
    "                tool_call_id=tool_id,\n",
    "                name=tool_name,\n",
    "            )\n",
    "\n",
    "            tool_messages.append(tool_message)\n",
    "\n",
    "    # Add the tool messages to the state    \n",
    "    return {\"messages\": tool_messages}\n",
    "\n",
    "# Update the graph construction\n",
    "graph_builder = StateGraph(State)\n",
    "\n",
    "# Add nodes\n",
    "graph_builder.add_node(\"model\", model)\n",
    "graph_builder.add_node(\"tool_node\", tool_node)\n",
    "\n",
    "# Set entry point\n",
    "graph_builder.set_entry_point(\"model\")\n",
    "\n",
    "# Add conditional edges\n",
    "graph_builder.add_conditional_edges(\"model\", tools_router, \n",
    "    {\n",
    "        \"tool_node\": \"tool_node\",\n",
    "        END: END\n",
    "    }\n",
    ")\n",
    "\n",
    "# Add edge from tool_node back to model\n",
    "graph_builder.add_edge(\"tool_node\", \"model\")\n",
    "\n",
    "# Compile the graph\n",
    "graph = graph_builder.compile(checkpointer=memory)\n"
   ]
  },
  {
   "cell_type": "code",
   "execution_count": 18,
   "id": "010e12e4",
   "metadata": {},
   "outputs": [
    {
     "data": {
      "image/png": "[encoded data removed]",
      "text/plain": [
       "<IPython.core.display.Image object>"
      ]
     },
     "metadata": {},
     "output_type": "display_data"
    }
   ],
   "source": [
    "from IPython.display import Image, display\n",
    "from langchain_core.runnables.graph import MermaidDrawMethod\n",
    "\n",
    "display(\n",
    "    Image(\n",
    "        graph.get_graph().draw_mermaid_png(\n",
    "            draw_method=MermaidDrawMethod.API\n",
    "        )\n",
    "    )\n",
    ")"
   ]
  },
  {
   "cell_type": "code",
   "execution_count": 20,
   "id": "4527e2c9",
   "metadata": {},
   "outputs": [
    {
     "data": {
      "text/plain": [
       "{'messages': [HumanMessage(content='What is the latest news about Gaza?', additional_kwargs={}, response_metadata={}, id='445c5fa8-f79f-47fd-911d-7897d3c0078d'),\n",
       "  AIMessage(content='', additional_kwargs={'tool_calls': [{'id': 'call_dRq01BRQEzGBzaSRDS3kPHCH', 'function': {'arguments': '{\"query\":\"latest news about Gaza\"}', 'name': 'tavily_search_results_json'}, 'type': 'function'}], 'refusal': None}, response_metadata={'token_usage': {'completion_tokens': 21, 'prompt_tokens': 87, 'total_tokens': 108, 'completion_tokens_details': {'accepted_prediction_tokens': 0, 'audio_tokens': 0, 'reasoning_tokens': 0, 'rejected_prediction_tokens': 0}, 'prompt_tokens_details': {'audio_tokens': 0, 'cached_tokens': 0}}, 'model_name': 'gpt-4o-2024-08-06', 'system_fingerprint': 'fp_1827dd0c55', 'id': 'chatcmpl-CDuRTi3IANOnRN5A7OjvgOrYyqLgo', 'service_tier': 'default', 'finish_reason': 'tool_calls', 'logprobs': None}, id='run--f5493b7d-17db-4d38-8d7d-c59649014a96-0', tool_calls=[{'name': 'tavily_search_results_json', 'args': {'query': 'latest news about Gaza'}, 'id': 'call_dRq01BRQEzGBzaSRDS3kPHCH', 'type': 'tool_call'}], usage_metadata={'input_tokens': 87, 'output_tokens': 21, 'total_tokens': 108, 'input_token_details': {'audio': 0, 'cache_read': 0}, 'output_token_details': {'audio': 0, 'reasoning': 0}}),\n",
       "  ToolMessage(content='[{\\'title\\': \"Gaza | Today\\'s latest from Al Jazeera\", \\'url\\': \\'https://www.aljazeera.com/tag/gaza/\\', \\'content\\': \\'### Moment of suspected drone attack on Global Sumud Flotilla boat\\\\n\\\\n### Netanyahu threatens Gaza residents as UN slams Israel over ‘mass killing’\\\\n\\\\n![Israeli warplanes destroy residential tower in Gaza City, September 8, 2025. [Mahmoud Issa/Reuters]](/wp-content/uploads/2025/09/2025-09-08T141922Z_201504670_RC2ONGAI6SZZ_RTRMADP_3_ISRAEL-PALESTINIANS-GAZA-1757350505.jpg?resize=770%2C513&quality=80)\\\\n\\\\n### Will Trump’s new Gaza ceasefire proposal end Israel’s genocide?\\\\n\\\\nGaza [...] ### Israel intensifies Gaza City destruction, bombs another high-rise tower\\\\n\\\\nIsrael flattens towers in Gaza City one by one, bombing residential buildings as it seeks to seize the city.\\\\n\\\\nPalestinians take cover during an Israeli strike on a building in Gaza City, Sunday, Sept. 7, 2025, after the Israeli army issued a prior warning. (AP Photo/Yousef Al Zanoun)\\\\n\\\\n## About\\\\n\\\\n## Connect\\\\n\\\\n## Our Channels\\\\n\\\\n## Our Network\\\\n\\\\nFollow Al Jazeera English:\\\\n\\\\nAl Jazeera Media Network logo [...] # Gaza\\\\n\\\\n### Video: Explosions in Doha after Israel ‘targets Hamas’ leadership\\\\n\\\\nThe Israeli military said it carried out ‘targeted strikes’ on Hamas officials in Doha.\\\\n\\\\n### What we know about Gaza flotilla ‘drone attack’\\\\n\\\\n### Israeli forces keep destroying high-rise residential buildings in Gaza City\\\\n\\\\n### Gaza City residents react to Israel’s forced expulsion orders\\\\n\\\\n(AFP)\\\\n\\\\n### Global Sumud Flotilla reports drone attack on Gaza-bound ship in Tunisia\\\\n\\\\nA Global Sumud flotilla vessel\\', \\'score\\': 0.7393665}, {\\'title\\': \\'Israel Gaza war | Latest News & Updates - BBC\\', \\'url\\': \\'https://www.bbc.com/news/topics/c2vdnvdg6xxt\\', \\'content\\': \\'# News News\\\\n\\\\n# Israel-Gaza war\\\\n\\\\n A damaged building in Doha\\\\n\\\\n## Israel carries out strike on senior Hamas leaders in Qatari capital\\\\n\\\\nQatar says the strike is a \"blatant violation\" of international law, while Hamas says its negotiating team was targeted in the attack.\\\\n\\\\nDisplaced Palestinians flee Gaza City following an Israeli military evacuation order (9 September 2025)\\\\n\\\\n## Israeli military orders all Gaza City residents to evacuate ahead of ground assault [...] ## Greta Thunberg\\\\\\'s Gaza flotilla hit by drone, organisers claim\\\\n\\\\nGlobal Sumud Flotilla says a fire was started but Tunisian authorities deny that a drone was involved.\\\\n\\\\nSmoke rises following an Israeli air strike that destroyed a high-rise building in Gaza City, northern Gaza (8 September 2025)\\\\n\\\\n## Hamas discussing US \\\\\\'ideas\\\\\\' for Gaza ceasefire after Trump\\\\\\'s \\\\\\'last warning\\\\\\'\\\\n\\\\nHamas says it received \"some ideas\" from the US through mediators on how to reach a Gaza ceasefire deal. [...] A young boy stands next to his bicycle as Palestinians check the devastation following an Israeli strike that hit Gaza City\\\\\\'s southern al-Zeitoun neighbourhood on August 8, 2025.\\\\n\\\\n## \\\\\\'It\\\\\\'s become a game for Israel\\\\\\': Gaza City residents fear takeover plans\\\\n\\\\nPalestinians have told the BBC they are living in fear of the plans, which have been heavily criticised by the international community.\\\\n\\\\n## Latest updates\\', \\'score\\': 0.72231215}, {\\'title\\': \\'Gaza Strip - The New York Times\\', \\'url\\': \\'https://www.nytimes.com/topic/destination/gaza-strip\\', \\'content\\': \\'Advertisement\\\\n\\\\nSupported by\\\\n\\\\n# Gaza Strip\\\\n\\\\n## Latest\\\\n\\\\n### Israel Orders Total Evacuation of Gaza City, Threatening Full Invasion\\\\n\\\\nHundreds of thousands will have to decide whether to risk staying put or fleeing to ruined and overcrowded areas in the south as Israel looks set to launch an operation to take over the entire city.\\\\n\\\\nBy Adam Rasgon\\\\n\\\\n### Aid Group Says Drone Set Gaza-Bound Ship on Fire\\', \\'score\\': 0.6829338}, {\\'title\\': \\'Israel news, updates on the war with Hamas - CNN\\', \\'url\\': \\'https://www.cnn.com/world/middleeast/israel\\', \\'content\\': \\'People watch as leaflets dropped by the Israeli military, urging evacuation south to al-Mawasi, land in Gaza City on September 9, 2025. The Israeli military said on Tuesday that it will act with \"greater force\" in Gaza City and warned residents to flee, in a statement posted on X. Israel has been intensifying its bombardment of the city in preparation for an operation to take control of it, despite repeated entreaties from Western nations and aid agencies to stop. [...] Global Sumud Flotilla, a humanitarian expedition to Gaza, led by activists including Greta Thunberg, departs from the port of Barcelona, as container ships are seen in the background, Spain August 31, 2025. [...] Qatar\\\\\\'s Prime Minister Sheikh Mohammed bin Abdulrahman bin Jassim Al-Thani addresses a press conference at the Diwan Annex in Doha on January 15, 2025. Sheikh Mohammed said that Israel and Hamas had agreed to a ceasefire in Gaza starting on January 19, 2025 and a hostage and prisoner exchange after 15 months of war.\\\\nIsraeli police officers and emergency personnel work at the scene of a shooting attack in Jerusalem on Monday, September 8.\\', \\'score\\': 0.65173227}]', name='tavily_search_results_json', id='fad68aaf-d062-4e58-9f59-6d19176c263f', tool_call_id='call_dRq01BRQEzGBzaSRDS3kPHCH'),\n",
       "  AIMessage(content='Here are some of the latest developments regarding Gaza:\\n\\n1. **Israeli Military Actions**: Israel has intensified its military operations in Gaza City, including airstrikes that have destroyed high-rise residential buildings. The Israeli military has ordered a total evacuation of Gaza City, threatening a full invasion as it seeks to take control of the city. This has led to significant displacement of residents.\\n\\n2. **International Reactions**: The international community, including the United Nations, has criticized Israel\\'s actions, describing them as \"mass killing.\" Qatar has condemned an Israeli strike on senior Hamas leaders in Doha as a \"blatant violation\" of international law.\\n\\n3. **Ceasefire Discussions**: There are ongoing discussions about a potential ceasefire. Hamas has reportedly received \"ideas\" from the United States through mediators on how to reach a ceasefire deal, following a proposal by former U.S. President Donald Trump.\\n\\n4. **Humanitarian Efforts**: The Global Sumud Flotilla, a humanitarian expedition to Gaza, has reported a suspected drone attack on one of its ships. The flotilla, which includes activists like Greta Thunberg, aims to deliver aid to Gaza.\\n\\nFor more detailed updates, you can visit the following sources:\\n- [Al Jazeera](https://www.aljazeera.com/tag/gaza/)\\n- [BBC](https://www.bbc.com/news/topics/c2vdnvdg6xxt)\\n- [The New York Times](https://www.nytimes.com/topic/destination/gaza-strip)\\n- [CNN](https://www.cnn.com/world/middleeast/israel)', additional_kwargs={'refusal': None}, response_metadata={'token_usage': {'completion_tokens': 329, 'prompt_tokens': 1351, 'total_tokens': 1680, 'completion_tokens_details': {'accepted_prediction_tokens': 0, 'audio_tokens': 0, 'reasoning_tokens': 0, 'rejected_prediction_tokens': 0}, 'prompt_tokens_details': {'audio_tokens': 0, 'cached_tokens': 0}}, 'model_name': 'gpt-4o-2024-08-06', 'system_fingerprint': 'fp_1827dd0c55', 'id': 'chatcmpl-CDuRZa1ywyX842eIQpJAuEpThDXLC', 'service_tier': 'default', 'finish_reason': 'stop', 'logprobs': None}, id='run--8b0eb856-7068-4ee2-8d67-1ac980c2403b-0', usage_metadata={'input_tokens': 1351, 'output_tokens': 329, 'total_tokens': 1680, 'input_token_details': {'audio': 0, 'cache_read': 0}, 'output_token_details': {'audio': 0, 'reasoning': 0}}),\n",
       "  HumanMessage(content='When is the next spaceX launch?', additional_kwargs={}, response_metadata={}, id='7bd376a2-1e45-48c4-93fa-c63a7e1a884c'),\n",
       "  AIMessage(content='', additional_kwargs={'tool_calls': [{'id': 'call_FFVQbaUuiFZjfZr0CC7dXeAt', 'function': {'arguments': '{\"query\":\"next SpaceX launch date\"}', 'name': 'tavily_search_results_json'}, 'type': 'function'}], 'refusal': None}, response_metadata={'token_usage': {'completion_tokens': 22, 'prompt_tokens': 1695, 'total_tokens': 1717, 'completion_tokens_details': {'accepted_prediction_tokens': 0, 'audio_tokens': 0, 'reasoning_tokens': 0, 'rejected_prediction_tokens': 0}, 'prompt_tokens_details': {'audio_tokens': 0, 'cached_tokens': 1664}}, 'model_name': 'gpt-4o-2024-08-06', 'system_fingerprint': 'fp_1827dd0c55', 'id': 'chatcmpl-CDuVdEJ1Yfkdizirl1J1PD3A7NAvc', 'service_tier': 'default', 'finish_reason': 'tool_calls', 'logprobs': None}, id='run--65f4fde8-ea5f-4d46-afbd-abbb79471d71-0', tool_calls=[{'name': 'tavily_search_results_json', 'args': {'query': 'next SpaceX launch date'}, 'id': 'call_FFVQbaUuiFZjfZr0CC7dXeAt', 'type': 'tool_call'}], usage_metadata={'input_tokens': 1695, 'output_tokens': 22, 'total_tokens': 1717, 'input_token_details': {'audio': 0, 'cache_read': 1664}, 'output_token_details': {'audio': 0, 'reasoning': 0}}),\n",
       "  ToolMessage(content=\"[{'title': 'Next Spaceflight | Rocket Launch Schedule', 'url': 'https://nextspaceflight.com/', 'content': 'Next Spaceflight | Rocket Launch Schedule\\\\n\\\\nNEXT SPACEFLIGHTLaunchesEventsStarshipRocketsReuseLocations\\\\n\\\\nNEXT SPACEFLIGHTImage 1 LaunchesImage 2 EventsImage 3 StarshipImage 4 RocketsImage 5 ReuseImage 6 Locations\\\\n\\\\n SpaceX \\\\n\\\\n##### Falcon 9 Block 5 | Nusantara Lima\\\\n\\\\n ASOG \\\\n\\\\nWed Sep 10, 2025 00:01 UTC\\\\n\\\\nSLC-40, Cape Canaveral SFS, Florida, USA \\\\n\\\\nDetailsWatch\\\\n\\\\n SpaceX \\\\n\\\\n##### Falcon 9 Block 5 | Tranche 1 Transport Layer B\\\\n\\\\n OCISLY \\\\n\\\\nWed Sep 10, 2025 14:12 UTC\\\\n\\\\nSLC-4E, Vandenberg SFB, California, USA', 'score': 0.8473754}, {'title': 'SpaceX Launch Manifest - Next Spaceflight', 'url': 'https://nextspaceflight.com/launches/agency/upcoming/1/', 'content': 'SpaceX Launch Manifest\\\\n\\\\n_\\\\ue5d2_\\\\n\\\\nNEXT SPACEFLIGHTLaunchesEventsStarshipRocketsReuseLocations\\\\n\\\\nNEXT SPACEFLIGHTImage 1 LaunchesImage 2 EventsImage 3 StarshipImage 4 RocketsImage 5 ReuseImage 6 Locations\\\\n\\\\n### SpaceX Manifest\\\\n\\\\nUpcomingPast\\\\n\\\\n SpaceX \\\\n\\\\n##### Falcon 9 Block 5 | Nusantara Lima\\\\n\\\\n ASOG \\\\n\\\\nWed Sep 10, 2025 00:01 UTC\\\\n\\\\nSLC-40, Cape Canaveral SFS, Florida, USA \\\\n\\\\nDetailsWatch\\\\n\\\\n SpaceX \\\\n\\\\n##### Falcon 9 Block 5 | Tranche 1 Transport Layer B\\\\n\\\\n OCISLY \\\\n\\\\nWed Sep 10, 2025 14:12 UTC [...] SLC-4E, Vandenberg SFB, California, USA \\\\n\\\\nDetailsWatch\\\\n\\\\n SpaceX \\\\n\\\\n##### Falcon 9 Block 5 | Starlink Group 17-10\\\\n\\\\n OCISLY \\\\n\\\\nSat Sep 13, 2025 15:41 UTC\\\\n\\\\nSLC-4E, Vandenberg SFB, California, USA \\\\n\\\\nDetails\\\\n\\\\n SpaceX \\\\n\\\\n##### Falcon 9 Block 5 | CRS NG-23\\\\n\\\\n LZ-2 \\\\n\\\\nSun Sep 14, 2025 22:11 UTC\\\\n\\\\nSLC-40, Cape Canaveral SFS, Florida, USA \\\\n\\\\nDetailsWatch\\\\n\\\\n SpaceX \\\\n\\\\n##### Falcon 9 Block 5 | Starlink Group 17-12\\\\n\\\\n OCISLY \\\\n\\\\nWed Sep 17, 2025 15:41 UTC\\\\n\\\\nSLC-4E, Vandenberg SFB, California, USA \\\\n\\\\nDetails\\\\n\\\\n SpaceX [...] ##### Falcon 9 Block 5 | IMAP & Others\\\\n\\\\nTue Sep 23, 2025 11:32 UTC\\\\n\\\\nLC-39A, Kennedy Space Center, Florida, USA \\\\n\\\\nDetails\\\\n\\\\n SpaceX \\\\n\\\\n##### Falcon 9 Block 5 | Bandwagon-4\\\\n\\\\n NET September, 2025 \\\\n\\\\nCCSFS/KSC, Florida or VSFB, California, USA \\\\n\\\\nDetails\\\\n\\\\n SpaceX \\\\n\\\\n##### Falcon 9 Block 5 | NROL-48\\\\n\\\\n Unknown \\\\n\\\\n NET September, 2025 \\\\n\\\\nSLC-4E, Vandenberg SFB, California, USA \\\\n\\\\nDetails\\\\n\\\\n SpaceX \\\\n\\\\n##### Falcon 9 Block 5 | Starlink Group 11-25\\\\n\\\\n OCISLY \\\\n\\\\n NET September, 2025', 'score': 0.83093774}, {'title': 'SpaceX faces dismal weather heading into second launch attempt ...', 'url': 'https://spaceflightnow.com/2025/09/08/live-coverage-spacex-to-launch-indonesian-communications-satellite-from-cape-canaveral/', 'content': 'Published Time: Tue, 09 Sep 2025 12:22:46 GMT\\\\n\\\\nPoor weather forces SpaceX to scrub launch of Indonesian communications satellite from Cape Canaveral – Spaceflight Now\\\\n\\\\n September 9, 2025 \\\\n\\\\nSearch for: \\\\n\\\\nImage 1: Spaceflight Now\\\\n\\\\nMENU\\\\n\\\\n   Home\\\\n   News Archive\\\\n   Launch Schedule\\\\n   [Mission Reports►](\\\\n       Antares Launcher\\\\n       Ariane 5\\\\n       Atlas 5\\\\n       Delta 4\\\\n       Falcon 9\\\\n       Falcon Heavy\\\\n       H-2A\\\\n       Soyuz\\\\n       Space Station [...] Image 7SpaceX passes 2,000 Starlink satellites deployed in 2025 with Saturday launch September 6, 2025  \\\\n   Image 8SpaceX aces 500th Falcon booster landing amid sunrise Starlink mission September 4, 2025  \\\\n   Image 9SpaceX launches 28 Starlink satellites on Wednesday sunrise Falcon 9 flight September 2, 2025  \\\\n   Image 10SpaceX’s Tuesday night Starlink features rare debut of a Falcon booster September 2, 2025 [...] Image 16SpaceX successfully launches Super Heavy-Starship on critical test flight August 27, 2025', 'score': 0.82761955}, {'title': 'Launch Schedule - Spaceflight Now', 'url': 'https://spaceflightnow.com/launch-schedule/', 'content': 'which, $256.6 million was awarded to SpaceX to provide launch services and other mission related costs. The 20-day launch window opens on July 5, 2028. [...] Image 2Poor weather forces SpaceX to scrub launch of Indonesian communications satellite from Cape Canaveral September 8, 2025  \\\\n   Image 3SpaceX passes 2,000 Starlink satellites deployed in 2025 with Saturday launch September 6, 2025  \\\\n   Image 4SpaceX aces 500th Falcon booster landing amid sunrise Starlink mission September 4, 2025  \\\\n   Image 5SpaceX launches 28 Starlink satellites on Wednesday sunrise Falcon 9 flight September 2, 2025 [...] Image 6SpaceX’s Tuesday night Starlink features rare debut of a Falcon booster September 2, 2025  \\\\n   Image 7SpaceX’s Sunday morning Falcon 9 launch sends 1,900th Starlink to orbit in 2025 August 30, 2025  \\\\n   Image 8SpaceX launches 24 Starlink satellites into polar orbit August 29, 2025  \\\\n   Image 9NASA, NOAA prep spacecraft trio to study the Sun and its impacts August 29, 2025  \\\\n   Image 10SpaceX launches record-breaking 30th flight of a Falcon 9 booster August 27, 2025', 'score': 0.82694983}]\", name='tavily_search_results_json', id='fcb88c2f-3b9d-4af4-9e6c-2a6627304eae', tool_call_id='call_FFVQbaUuiFZjfZr0CC7dXeAt'),\n",
       "  AIMessage(content='The next SpaceX launch is scheduled as follows:\\n\\n- **Falcon 9 Block 5 | Nusantara Lima**: Scheduled for Wednesday, September 10, 2025, at 00:01 UTC from SLC-40, Cape Canaveral Space Force Station, Florida, USA.\\n\\n- **Falcon 9 Block 5 | Tranche 1 Transport Layer B**: Scheduled for Wednesday, September 10, 2025, at 14:12 UTC from SLC-4E, Vandenberg Space Force Base, California, USA.\\n\\nFor more details and updates, you can visit [Next Spaceflight](https://nextspaceflight.com/).', additional_kwargs={'refusal': None}, response_metadata={'token_usage': {'completion_tokens': 139, 'prompt_tokens': 3245, 'total_tokens': 3384, 'completion_tokens_details': {'accepted_prediction_tokens': 0, 'audio_tokens': 0, 'reasoning_tokens': 0, 'rejected_prediction_tokens': 0}, 'prompt_tokens_details': {'audio_tokens': 0, 'cached_tokens': 0}}, 'model_name': 'gpt-4o-2024-08-06', 'system_fingerprint': 'fp_1827dd0c55', 'id': 'chatcmpl-CDuVgdDMLuxo66Uk1OqCBKCp8QFiM', 'service_tier': 'default', 'finish_reason': 'stop', 'logprobs': None}, id='run--6dfe3cda-c1f9-4fdb-8a11-442cb2c420fc-0', usage_metadata={'input_tokens': 3245, 'output_tokens': 139, 'total_tokens': 3384, 'input_token_details': {'audio': 0, 'cache_read': 0}, 'output_token_details': {'audio': 0, 'reasoning': 0}})]}"
      ]
     },
     "execution_count": 20,
     "metadata": {},
     "output_type": "execute_result"
    }
   ],
   "source": [
    "config ={\n",
    "    \"configurable\": {\n",
    "        \"thread_id\": 202509091\n",
    "    }\n",
    "}\n",
    "\n",
    "response = await graph.ainvoke({\"messages\":[HumanMessage(content=\"When is the next spaceX launch?\")]}, config=config)\n",
    "response"
   ]
  },
  {
   "cell_type": "code",
   "execution_count": 35,
   "id": "d3d9855a",
   "metadata": {},
   "outputs": [
    {
     "name": "stdout",
     "output_type": "stream",
     "text": [
      "Scheduled for September 10, 2025, SpaceX's next launch from Vandenberg SFB will use a Falcon 9 Block 5 rocket, advancing satellite deployment and showcasing reusable technology for sustainable space exploration."
     ]
    }
   ],
   "source": [
    "config ={\n",
    "    \"configurable\": {\n",
    "        \"thread_id\": 202509092\n",
    "    }\n",
    "}\n",
    "\n",
    "async for event in graph.astream_events({\n",
    "    \"messages\": [HumanMessage(content=\"Give me a 30 word essay on the next spaceX launch\")]\n",
    "}, config=config, version=\"v2\") :\n",
    "    if event[\"event\"] == \"on_chat_model_stream\":\n",
    "        print(event[\"data\"][\"chunk\"].content, end=\"\", flush=True)\n"
   ]
  },
  {
   "cell_type": "markdown",
   "id": "6b81e907",
   "metadata": {},
   "source": []
  },
  {
   "cell_type": "markdown",
   "id": "bba4da4b",
   "metadata": {},
   "source": []
  }
 ],
 "metadata": {
  "kernelspec": {
   "display_name": "venv",
   "language": "python",
   "name": "python3"
  },
  "language_info": {
   "codemirror_mode": {
    "name": "ipython",
    "version": 3
   },
   "file_extension": ".py",
   "mimetype": "text/x-python",
   "name": "python",
   "nbconvert_exporter": "python",
   "pygments_lexer": "ipython3",
   "version": "3.11.6"
  }
 },
 "nbformat": 4,
 "nbformat_minor": 5
}
